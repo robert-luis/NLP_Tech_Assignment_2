{
 "cells": [
  {
   "cell_type": "markdown",
   "metadata": {},
   "source": [
    "# Main Script\n",
    "# NLP Technology - Assignment 2, Part 1\n"
   ]
  },
  {
   "cell_type": "markdown",
   "metadata": {},
   "source": [
    "## Setup"
   ]
  },
  {
   "cell_type": "markdown",
   "metadata": {},
   "source": [
    "### Imports\n",
    "#### General imports\n"
   ]
  },
  {
   "cell_type": "code",
   "execution_count": null,
   "metadata": {},
   "outputs": [],
   "source": [
    "import sys\n",
    "import time\n",
    "from sklearn.metrics import accuracy_score, f1_score, precision_score, recall_score, classification_report, confusion_matrix"
   ]
  },
  {
   "cell_type": "markdown",
   "metadata": {},
   "source": [
    "#### Imports of other scripts\n",
    "\n",
    "Change to python scripts when less amendmends needed!\n",
    "-> new format will be e.g. from 1_DataImportAndConversion.ipynb import *\n"
   ]
  },
  {
   "cell_type": "code",
   "execution_count": null,
   "metadata": {},
   "outputs": [],
   "source": [
    "# imports\n",
    "%run PrecossesingWrapper.ipynb\n",
    "%run SVM.ipynb\n",
    "from PrecossesingWrapper import *\n",
    "from SVM import *"
   ]
  },
  {
   "cell_type": "markdown",
   "metadata": {},
   "source": [
    "### Setting variable"
   ]
  },
  {
   "cell_type": "code",
   "execution_count": null,
   "metadata": {},
   "outputs": [],
   "source": [
    "# use these parameters for now\n",
    "mode  = 'sample'\n",
    "print_status = True\n",
    "\n",
    "# dictionary with meta information\n",
    "\n",
    "'''\n",
    "\n",
    "Dictionary to carry all the relevant information for \n",
    "    - input, \n",
    "    - intermediate, and \n",
    "    - output files including their paths\n",
    "    \n",
    "    \n",
    "Possible execution modes:\n",
    "    - 'production'\n",
    "    - 'sample'\n",
    "    - 'custom'\n",
    "    \n",
    "'''\n",
    "\n",
    "executionMode_dict = {\n",
    "    'production' : {\n",
    "        'input' : {\n",
    "            'train' : '../data/input/en_ewt-up-train_excerpt.conllu',\n",
    "            'test'  : '../data/input/en_ewt-up-test_excerpt.conllu'\n",
    "        },\n",
    "        'intermediate': {\n",
    "            \n",
    "        },\n",
    "        'output': {\n",
    "            \n",
    "        }\n",
    "    },\n",
    "    'sample' : {\n",
    "        'input' : {\n",
    "            'train' : '../data/input/srl_univprop_en.example.conll',\n",
    "            'test'  : '../data/input/srl_univprop_en.test_example.conll'\n",
    "        },\n",
    "        'intermediate': {\n",
    "            \n",
    "        },\n",
    "        'output': {\n",
    "            \n",
    "        }\n",
    "    },\n",
    "    'custom' : {\n",
    "        'input' : {\n",
    "            'train' : '',\n",
    "            'test'  : ''\n",
    "        },\n",
    "        'intermediate': {\n",
    "            \n",
    "        },\n",
    "        'output': {\n",
    "            \n",
    "        }\n",
    "    } \n",
    "}\n",
    "\n",
    "\n"
   ]
  },
  {
   "cell_type": "code",
   "execution_count": null,
   "metadata": {},
   "outputs": [],
   "source": [
    "StartTime=time.time()\n",
    "\n",
    "if print_status == True:\n",
    "    print(f'''\\n\\n\\n\\n\n",
    "#############################################\n",
    "#############################################\n",
    "#############################################\n",
    "#### Assignment 2.1                      ####\n",
    "#### Traditional Semantic Role Labeling  ####\n",
    "\n",
    "\n",
    "#######################\n",
    "#### Preprocessing ####\n",
    "''')"
   ]
  },
  {
   "cell_type": "markdown",
   "metadata": {},
   "source": [
    "## Preprocessing"
   ]
  },
  {
   "cell_type": "markdown",
   "metadata": {},
   "source": [
    "### Training\n",
    "\n",
    "Call runPreprocessing function on training dataset to preprocess training dataset\n",
    "-> use training = True\n",
    "\n"
   ]
  },
  {
   "cell_type": "code",
   "execution_count": null,
   "metadata": {},
   "outputs": [],
   "source": [
    "\n",
    "executionMode_dict = runPreprocessing(executionMode_dict = executionMode_dict, \n",
    "                                      mode  = mode, \n",
    "                                      model = 'train', \n",
    "                                      print_status = True)\n"
   ]
  },
  {
   "cell_type": "markdown",
   "metadata": {},
   "source": [
    "### Testing\n",
    "Call runPreprocessing function on training dataset to preprocess test dataset\n"
   ]
  },
  {
   "cell_type": "code",
   "execution_count": null,
   "metadata": {},
   "outputs": [],
   "source": [
    "\n",
    "executionMode_dict = runPreprocessing(executionMode_dict = executionMode_dict, \n",
    "                                      mode  = mode, \n",
    "                                      model = 'test', \n",
    "                                      print_status = True)\n",
    "\n"
   ]
  },
  {
   "cell_type": "markdown",
   "metadata": {},
   "source": [
    "## Classification"
   ]
  },
  {
   "cell_type": "code",
   "execution_count": null,
   "metadata": {},
   "outputs": [],
   "source": [
    "print(f'\\n\\n\\n\\n########################')\n",
    "print('#### Classification ####')\n",
    "\n",
    "executionMode_dict = classifyArguments(executionMode_dict = executionMode_dict, \n",
    "                                      mode  = mode, \n",
    "                                      print_status = True)"
   ]
  },
  {
   "cell_type": "markdown",
   "metadata": {},
   "source": [
    "## Evaluation"
   ]
  },
  {
   "cell_type": "code",
   "execution_count": null,
   "metadata": {},
   "outputs": [],
   "source": [
    "print(f'\\n\\n\\n\\n####################')\n",
    "print('#### Evaluation ####')\n",
    "\n",
    "path_to_report      = executionMode_dict[mode]['output']['classifiedArgumentsReport']\n",
    "path_to_extended_df = executionMode_dict[mode]['intermediate']['test']['05_identifiedArguments']\n",
    "\n",
    "print('predicate_prediction, predicate_gold Confusion Matrix')\n",
    "df=pd.read_csv(path_to_extended_df, sep=',')\n",
    "y_predpp=df['predicate_prediction']\n",
    "y_outpp=df['predicate_gold']\n",
    "reportpp = classification_report(y_predpp,y_outpp,digits = 3)\n",
    "print(reportpp, sep='\\t')\n",
    "\n",
    "\n",
    "print('label_ident_prediction, label_ident_gold Confusion Matrix')\n",
    "y_predli=df['label_ident_prediction']\n",
    "y_outli=df['label_ident_gold']\n",
    "reportli = classification_report(y_predli,y_outli,digits = 3)\n",
    "print(reportli, sep='\\t')  \n",
    "\n",
    "\n",
    "print('Argument classification Confusion matrix')\n",
    "report         = pd.read_csv(path_to_report)\n",
    "print(report)"
   ]
  },
  {
   "cell_type": "code",
   "execution_count": null,
   "metadata": {},
   "outputs": [],
   "source": [
    "TotalTime=time.time() - StartTime\n",
    "print('Total Time: ', np.round(TotalTime/60, 2), ' min')"
   ]
  },
  {
   "cell_type": "code",
   "execution_count": null,
   "metadata": {},
   "outputs": [],
   "source": [
    "with open('out.txt', 'w') as f:\n",
    "    f.write(f'SRL Assignment 2\\nMode:{mode}\\n')\n",
    "    f.write('Predicate Prediction ConfusionMatrix\\n')\n",
    "    f.write(reportpp)\n",
    "    f.write('\\n\\n\\n')\n",
    "    f.write('Argument Identification ConfusionMatrix\\n')\n",
    "    f.write(reportli)\n",
    "    f.write('\\n\\n\\n')\n",
    "    f.write('Argument Classification ConfusionMatrix\\n')\n",
    "    f.write(report.to_string())\n",
    "    f.write('\\n')"
   ]
  },
  {
   "cell_type": "code",
   "execution_count": null,
   "metadata": {},
   "outputs": [],
   "source": []
  }
 ],
 "metadata": {
  "kernelspec": {
   "display_name": "Python 3 (ipykernel)",
   "language": "python",
   "name": "python3"
  },
  "language_info": {
   "codemirror_mode": {
    "name": "ipython",
    "version": 3
   },
   "file_extension": ".py",
   "mimetype": "text/x-python",
   "name": "python",
   "nbconvert_exporter": "python",
   "pygments_lexer": "ipython3",
   "version": "3.8.12"
  }
 },
 "nbformat": 4,
 "nbformat_minor": 4
}

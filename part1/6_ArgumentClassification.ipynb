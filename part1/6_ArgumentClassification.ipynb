{
 "cells": [
  {
   "cell_type": "markdown",
   "metadata": {},
   "source": [
    "# 6 Argument Classification\n",
    "\n",
    "This script provides a function to execute the argument classification using SVM <br>\n",
    "\n",
    "\n",
    "*Input:*  \n",
    "- executionMode_dict\n",
    "- mode               -> ('production' / 'sample')\n",
    "- model              -> ('train' / 'test')\n",
    "- print_status       -> (True / False)\n",
    "\n",
    "*Output:* \n",
    "- executionMode_dict \n",
    "- SVM model for training\n",
    "- end dataframe incl. results for testing"
   ]
  },
  {
   "cell_type": "markdown",
   "metadata": {},
   "source": [
    "## Preparation"
   ]
  },
  {
   "cell_type": "code",
   "execution_count": null,
   "metadata": {},
   "outputs": [],
   "source": [
    "import pandas as pd"
   ]
  },
  {
   "cell_type": "markdown",
   "metadata": {},
   "source": [
    "## Reading data in"
   ]
  },
  {
   "cell_type": "code",
   "execution_count": null,
   "metadata": {},
   "outputs": [],
   "source": [
    "def classifyArguments(executionMode_dict,\n",
    "                      mode,                   #('production' / 'sample')\n",
    "                      model,                  #('train' / 'test')\n",
    "                      print_status   = False,\n",
    "                      sentence_limit = None):\n",
    "    \n",
    "\n",
    "    path_to_input = executionMode_dict[mode]['intermediate'][model]['05_identifiedArguments']\n",
    "    path_to_save_df = '../data/intermediate/' + mode + '_' + model +'_06_predictedArguments.csv'\n",
    "    #path_to_save_model       = '../data/intermediate/' + mode + '_' + model +'_predictionModel'\n",
    "    executionMode_dict[mode]['intermediate'][model]['06_predictedArguments'] = path_to_save_df\n",
    "    \n",
    "    # read dataframe in\n",
    "    df = pd.read_csv(path_to_input)\n",
    "    \n",
    "    # insert predicted predicates here\n",
    "    df['predicate_prediction'] = False\n",
    "\n",
    "    display(df.head(5))\n",
    "    \n",
    "    \n",
    "    \n",
    "    ## insert here\n",
    "    \n",
    "    \n",
    "    \n",
    "    \n",
    "    \n",
    "    \n",
    "    #write dataframe out  #?\n",
    "    df.to_csv(path_to_save_df, index=False)\n",
    "    \n",
    "    \n",
    "    if print_status == True:\n",
    "        \n",
    "        print('\\n\\n#### 6 Argument classification ####\\n\\n')\n",
    "        print(' - completed')\n",
    "    \n",
    "    # for training, return model\n",
    "    if model == 'train':\n",
    "        return executionMode_dict, model\n",
    "    \n",
    "    # for testing, return predictions or entire dataframe?\n",
    "    else: \n",
    "        return executionMode_dict  #should we return the predictions here?"
   ]
  }
 ],
 "metadata": {
  "kernelspec": {
   "display_name": "Python 3 (ipykernel)",
   "language": "python",
   "name": "python3"
  },
  "language_info": {
   "codemirror_mode": {
    "name": "ipython",
    "version": 3
   },
   "file_extension": ".py",
   "mimetype": "text/x-python",
   "name": "python",
   "nbconvert_exporter": "python",
   "pygments_lexer": "ipython3",
   "version": "3.8.12"
  }
 },
 "nbformat": 4,
 "nbformat_minor": 4
}

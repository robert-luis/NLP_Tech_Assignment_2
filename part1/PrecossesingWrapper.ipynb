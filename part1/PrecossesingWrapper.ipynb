{
 "cells": [
  {
   "cell_type": "markdown",
   "metadata": {},
   "source": [
    "# SRL runner\n",
    "\n",
    "This script \n",
    "\n",
    "*Input:*  \n",
    "- executionMode_dict\n",
    "- mode               -> ('production' / 'sample')\n",
    "- model              -> ('train' / 'test')\n",
    "- print_status       -> (True / False)\n",
    "\n",
    "*Output:* \n",
    "- executionMode_dict \n",
    "- tbc"
   ]
  },
  {
   "cell_type": "markdown",
   "metadata": {},
   "source": [
    "## Setup\n",
    "\n",
    "### Imports\n",
    "#### General imports\n"
   ]
  },
  {
   "cell_type": "code",
   "execution_count": 1,
   "metadata": {},
   "outputs": [],
   "source": [
    "import warnings\n",
    "warnings.filterwarnings('ignore')"
   ]
  },
  {
   "cell_type": "markdown",
   "metadata": {},
   "source": [
    "#### Script imports"
   ]
  },
  {
   "cell_type": "code",
   "execution_count": 2,
   "metadata": {},
   "outputs": [],
   "source": [
    "%run 1_DataImport.ipynb\n",
    "%run 2_PredicatePrediction.ipynb\n",
    "%run 3_DataframeConversion.ipynb\n",
    "%run 4_FeatureExtraction.ipynb\n",
    "%run 5_ArgumentIdentification.ipynb\n"
   ]
  },
  {
   "cell_type": "markdown",
   "metadata": {},
   "source": [
    "## Preprocessing Pipeline\n"
   ]
  },
  {
   "cell_type": "code",
   "execution_count": null,
   "metadata": {},
   "outputs": [],
   "source": [
    "def runPreprocessing(executionMode_dict, mode, model, print_status):\n",
    "    \n",
    "    if print_status == True:\n",
    "        print(f'\\n\\n\\n\\n##################')\n",
    "        print(f'#### {mode.upper()} ####')\n",
    "    \n",
    "    # 1. create dataframe\n",
    "    executionMode_dict = createDataFrame(executionMode_dict, \n",
    "                                         mode  = mode,\n",
    "                                         model = model,\n",
    "                                         print_status = print_status)\n",
    "\n",
    "    # 2. predict predicates\n",
    "    executionMode_dict = predictPredicates(executionMode_dict, \n",
    "                                           mode  = mode,\n",
    "                                           model = model,\n",
    "                                           print_status = print_status)\n",
    "\n",
    "    # 3. convert/ expand dataframe\n",
    "    executionMode_dict = convertDataframe(executionMode_dict, \n",
    "                                          mode  = mode,\n",
    "                                          model = model,\n",
    "                                          print_status = print_status)\n",
    "\n",
    "    # 4. extract features\n",
    "    executionMode_dict = extractFeatures(executionMode_dict, \n",
    "                                          mode  = mode,\n",
    "                                          model = model,\n",
    "                                          print_status = print_status)\n",
    "\n",
    "\n",
    "    # 5. identify arguments\n",
    "    executionMode_dict = identifyArguments(executionMode_dict, \n",
    "                                          mode  = mode,\n",
    "                                          model = model,\n",
    "                                          print_status = print_status)\n",
    "\n",
    "    return executionMode_dict\n"
   ]
  },
  {
   "cell_type": "code",
   "execution_count": null,
   "metadata": {},
   "outputs": [],
   "source": []
  }
 ],
 "metadata": {
  "kernelspec": {
   "display_name": "Python 3 (ipykernel)",
   "language": "python",
   "name": "python3"
  },
  "language_info": {
   "codemirror_mode": {
    "name": "ipython",
    "version": 3
   },
   "file_extension": ".py",
   "mimetype": "text/x-python",
   "name": "python",
   "nbconvert_exporter": "python",
   "pygments_lexer": "ipython3",
   "version": "3.8.12"
  }
 },
 "nbformat": 4,
 "nbformat_minor": 4
}
